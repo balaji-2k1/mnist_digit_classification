{
  "cells": [
    {
      "cell_type": "markdown",
      "metadata": {
        "id": "view-in-github",
        "colab_type": "text"
      },
      "source": [
        "<a href=\"https://colab.research.google.com/github/balaji-2k1/mnist_digit_classification/blob/main/ANN_MNIST_me.ipynb\" target=\"_parent\"><img src=\"https://colab.research.google.com/assets/colab-badge.svg\" alt=\"Open In Colab\"/></a>"
      ]
    },
    {
      "cell_type": "code",
      "execution_count": null,
      "metadata": {
        "id": "xy85174_POX3"
      },
      "outputs": [],
      "source": [
        "import numpy as np \n",
        "import pandas as pd\n",
        "import matplotlib.pyplot as plt\n",
        "import tensorflow as tf\n",
        "from tensorflow import keras\n",
        "from keras.datasets import mnist"
      ]
    },
    {
      "cell_type": "code",
      "execution_count": null,
      "metadata": {
        "id": "7FBBoHeEPrVD",
        "colab": {
          "base_uri": "https://localhost:8080/"
        },
        "outputId": "82fc762b-81bc-41a0-d1cf-dedf8c08f0c6"
      },
      "outputs": [
        {
          "output_type": "stream",
          "name": "stdout",
          "text": [
            "Downloading data from https://storage.googleapis.com/tensorflow/tf-keras-datasets/mnist.npz\n",
            "11490434/11490434 [==============================] - 0s 0us/step\n"
          ]
        }
      ],
      "source": [
        "(x_train,y_train),(x_test,y_test)=mnist.load_data()"
      ]
    },
    {
      "cell_type": "code",
      "execution_count": null,
      "metadata": {
        "colab": {
          "base_uri": "https://localhost:8080/"
        },
        "id": "I5x9FguIQ7i4",
        "outputId": "cd406f0f-b80e-4638-9a3b-859c85b9435f"
      },
      "outputs": [
        {
          "output_type": "stream",
          "name": "stdout",
          "text": [
            "(60000, 28, 28)\n",
            "(10000, 28, 28)\n",
            "(60000,)\n",
            "(10000,)\n"
          ]
        }
      ],
      "source": [
        "print(x_train.shape)\n",
        "print(x_test.shape)\n",
        "print(y_train.shape)\n",
        "print(y_test.shape)"
      ]
    },
    {
      "cell_type": "code",
      "execution_count": null,
      "metadata": {
        "colab": {
          "base_uri": "https://localhost:8080/"
        },
        "id": "ZrdKwcFoRDOU",
        "outputId": "bc9b0038-3080-4ac9-c16b-478467bfd818"
      },
      "outputs": [
        {
          "output_type": "stream",
          "name": "stdout",
          "text": [
            "0   0   0   0   0   0   0   0   0   0   0   0   0   0   0   0   0   0   0   0   0   0   0   0   0   0   0   0   \n",
            "\n",
            "0   0   0   0   0   0   0   0   0   0   0   0   0   0   0   0   0   0   0   0   0   0   0   0   0   0   0   0   \n",
            "\n",
            "0   0   0   0   0   0   0   0   0   0   0   0   0   0   0   0   0   0   0   0   0   0   0   0   0   0   0   0   \n",
            "\n",
            "0   0   0   0   0   0   0   0   0   0   0   0   0   0   0   0   0   0   0   0   0   0   0   0   0   0   0   0   \n",
            "\n",
            "0   0   0   0   0   0   0   0   0   0   0   0   0   0   0   0   0   0   0   0   0   0   0   0   0   0   0   0   \n",
            "\n",
            "0   0   0   0   0   0   0   0   0   0   0   0   3   18   18   18   126   136   175   26   166   255   247   127   0   0   0   0   \n",
            "\n",
            "0   0   0   0   0   0   0   0   30   36   94   154   170   253   253   253   253   253   225   172   253   242   195   64   0   0   0   0   \n",
            "\n",
            "0   0   0   0   0   0   0   49   238   253   253   253   253   253   253   253   253   251   93   82   82   56   39   0   0   0   0   0   \n",
            "\n",
            "0   0   0   0   0   0   0   18   219   253   253   253   253   253   198   182   247   241   0   0   0   0   0   0   0   0   0   0   \n",
            "\n",
            "0   0   0   0   0   0   0   0   80   156   107   253   253   205   11   0   43   154   0   0   0   0   0   0   0   0   0   0   \n",
            "\n",
            "0   0   0   0   0   0   0   0   0   14   1   154   253   90   0   0   0   0   0   0   0   0   0   0   0   0   0   0   \n",
            "\n",
            "0   0   0   0   0   0   0   0   0   0   0   139   253   190   2   0   0   0   0   0   0   0   0   0   0   0   0   0   \n",
            "\n",
            "0   0   0   0   0   0   0   0   0   0   0   11   190   253   70   0   0   0   0   0   0   0   0   0   0   0   0   0   \n",
            "\n",
            "0   0   0   0   0   0   0   0   0   0   0   0   35   241   225   160   108   1   0   0   0   0   0   0   0   0   0   0   \n",
            "\n",
            "0   0   0   0   0   0   0   0   0   0   0   0   0   81   240   253   253   119   25   0   0   0   0   0   0   0   0   0   \n",
            "\n",
            "0   0   0   0   0   0   0   0   0   0   0   0   0   0   45   186   253   253   150   27   0   0   0   0   0   0   0   0   \n",
            "\n",
            "0   0   0   0   0   0   0   0   0   0   0   0   0   0   0   16   93   252   253   187   0   0   0   0   0   0   0   0   \n",
            "\n",
            "0   0   0   0   0   0   0   0   0   0   0   0   0   0   0   0   0   249   253   249   64   0   0   0   0   0   0   0   \n",
            "\n",
            "0   0   0   0   0   0   0   0   0   0   0   0   0   0   46   130   183   253   253   207   2   0   0   0   0   0   0   0   \n",
            "\n",
            "0   0   0   0   0   0   0   0   0   0   0   0   39   148   229   253   253   253   250   182   0   0   0   0   0   0   0   0   \n",
            "\n",
            "0   0   0   0   0   0   0   0   0   0   24   114   221   253   253   253   253   201   78   0   0   0   0   0   0   0   0   0   \n",
            "\n",
            "0   0   0   0   0   0   0   0   23   66   213   253   253   253   253   198   81   2   0   0   0   0   0   0   0   0   0   0   \n",
            "\n",
            "0   0   0   0   0   0   18   171   219   253   253   253   253   195   80   9   0   0   0   0   0   0   0   0   0   0   0   0   \n",
            "\n",
            "0   0   0   0   55   172   226   253   253   253   253   244   133   11   0   0   0   0   0   0   0   0   0   0   0   0   0   0   \n",
            "\n",
            "0   0   0   0   136   253   253   253   212   135   132   16   0   0   0   0   0   0   0   0   0   0   0   0   0   0   0   0   \n",
            "\n",
            "0   0   0   0   0   0   0   0   0   0   0   0   0   0   0   0   0   0   0   0   0   0   0   0   0   0   0   0   \n",
            "\n",
            "0   0   0   0   0   0   0   0   0   0   0   0   0   0   0   0   0   0   0   0   0   0   0   0   0   0   0   0   \n",
            "\n",
            "0   0   0   0   0   0   0   0   0   0   0   0   0   0   0   0   0   0   0   0   0   0   0   0   0   0   0   0   \n",
            "\n"
          ]
        }
      ],
      "source": [
        "for i in x_train[0]:\n",
        "  for j in i:\n",
        "    print(j,end=\"   \")\n",
        "  print(\"\\n\")"
      ]
    },
    {
      "cell_type": "code",
      "execution_count": null,
      "metadata": {
        "colab": {
          "base_uri": "https://localhost:8080/",
          "height": 282
        },
        "id": "A39NC6xTRZtE",
        "outputId": "e9318290-6e04-4c84-ffff-bfd6209a2c60"
      },
      "outputs": [
        {
          "output_type": "execute_result",
          "data": {
            "text/plain": [
              "<matplotlib.image.AxesImage at 0x7f2ff1e58c50>"
            ]
          },
          "metadata": {},
          "execution_count": 8
        },
        {
          "output_type": "display_data",
          "data": {
            "text/plain": [
              "<Figure size 432x288 with 1 Axes>"
            ],
            "image/png": "[encoded data removed]"
          },
          "metadata": {
            "needs_background": "light"
          }
        }
      ],
      "source": [
        "plt.imshow(x_train[0])"
      ]
    },
    {
      "cell_type": "code",
      "execution_count": null,
      "metadata": {
        "colab": {
          "base_uri": "https://localhost:8080/"
        },
        "id": "qqIm9Y43W4Wj",
        "outputId": "22d271bf-7154-4198-8745-7adc8c22d0b3"
      },
      "outputs": [
        {
          "output_type": "stream",
          "name": "stdout",
          "text": [
            "<class 'numpy.ndarray'>\n"
          ]
        }
      ],
      "source": [
        "print(type(x_train))"
      ]
    },
    {
      "cell_type": "code",
      "execution_count": null,
      "metadata": {
        "colab": {
          "base_uri": "https://localhost:8080/",
          "height": 282
        },
        "id": "UAoR3AeySZ9b",
        "outputId": "8f60e396-ee60-4a07-f5b0-2abe5ceaced4"
      },
      "outputs": [
        {
          "output_type": "execute_result",
          "data": {
            "text/plain": [
              "<matplotlib.image.AxesImage at 0x7f2ff193f450>"
            ]
          },
          "metadata": {},
          "execution_count": 10
        },
        {
          "output_type": "display_data",
          "data": {
            "text/plain": [
              "<Figure size 432x288 with 1 Axes>"
            ],
            "image/png": "[encoded data removed]"
          },
          "metadata": {
            "needs_background": "light"
          }
        }
      ],
      "source": [
        "plt.imshow(x_train[0],cmap='gray')"
      ]
    },
    {
      "cell_type": "code",
      "execution_count": null,
      "metadata": {
        "colab": {
          "base_uri": "https://localhost:8080/",
          "height": 283
        },
        "id": "M_TrZmreSlsM",
        "outputId": "c725fbdf-412a-4832-ccf3-e5f5c0316bf5"
      },
      "outputs": [
        {
          "output_type": "execute_result",
          "data": {
            "text/plain": [
              "<matplotlib.image.AxesImage at 0x7f2ff18bee10>"
            ]
          },
          "metadata": {},
          "execution_count": 11
        },
        {
          "output_type": "display_data",
          "data": {
            "text/plain": [
              "<Figure size 432x288 with 1 Axes>"
            ],
            "image/png": "[encoded data removed]"
          },
          "metadata": {
            "needs_background": "light"
          }
        }
      ],
      "source": [
        "# Sample creation of 2d pixel image for fun\n",
        "import random \n",
        "arr=[]\n",
        "rows,cols=30,30\n",
        "for i in range(rows):\n",
        "  temp=[]\n",
        "  for j in range(cols):\n",
        "    temp.append(random.randint(0,255))\n",
        "  arr.append(temp)\n",
        "plt.imshow(arr,cmap=\"gray\")"
      ]
    },
    {
      "cell_type": "code",
      "execution_count": null,
      "metadata": {
        "colab": {
          "base_uri": "https://localhost:8080/"
        },
        "id": "U3n0XB3xTN8c",
        "outputId": "3ce4f88a-7b0f-454f-d1c5-85fd70edab30"
      },
      "outputs": [
        {
          "output_type": "stream",
          "name": "stdout",
          "text": [
            "(3, 3, 3)\n",
            "(3, 9)\n"
          ]
        }
      ],
      "source": [
        "x=[]\n",
        "for i in range(3):\n",
        "  y=[]\n",
        "  for j in range(3):\n",
        "    z=[]\n",
        "    for k in range(3):\n",
        "      z.append(k)\n",
        "    y.append(z)\n",
        "  x.append(y)\n",
        "x=np.array(x)\n",
        "print(x.shape)\n",
        "x=x.reshape(-1,9)\n",
        "print(x.shape)"
      ]
    },
    {
      "cell_type": "code",
      "execution_count": null,
      "metadata": {
        "id": "NzF7icnKXOQR"
      },
      "outputs": [],
      "source": [
        "# print(int(x_train[0][0].shape[0]))\n",
        "# x_train=x_train.reshape(-1,int(x_train[0][0].shape[0])*int(x_train[0][1].shape[0]))#not efficient to do it\n",
        "x_train=x_train.reshape(-1,784)\n",
        "x_test=x_test.reshape(-1,784)"
      ]
    },
    {
      "cell_type": "code",
      "source": [
        "print(x_train[0].shape)"
      ],
      "metadata": {
        "colab": {
          "base_uri": "https://localhost:8080/"
        },
        "id": "vxzI-PJF8Alo",
        "outputId": "dbe03216-95c2-4e40-b773-18c548d82f3c"
      },
      "execution_count": null,
      "outputs": [
        {
          "output_type": "stream",
          "name": "stdout",
          "text": [
            "(784,)\n"
          ]
        }
      ]
    },
    {
      "cell_type": "code",
      "execution_count": null,
      "metadata": {
        "colab": {
          "base_uri": "https://localhost:8080/"
        },
        "id": "5AtpgK9_WOjM",
        "outputId": "d4877043-c84e-4772-e157-190ea62a0d92"
      },
      "outputs": [
        {
          "output_type": "stream",
          "name": "stdout",
          "text": [
            "(60000, 784)\n",
            "(10000, 784)\n",
            "(60000,)\n",
            "(10000,)\n"
          ]
        }
      ],
      "source": [
        "print(x_train.shape)\n",
        "print(x_test.shape)\n",
        "print(y_train.shape)\n",
        "print(y_test.shape)"
      ]
    },
    {
      "cell_type": "code",
      "execution_count": null,
      "metadata": {
        "colab": {
          "base_uri": "https://localhost:8080/"
        },
        "id": "uj4vxKK7ZnRp",
        "outputId": "c7570767-41d3-4c24-9ae3-92a242e1d4dd"
      },
      "outputs": [
        {
          "output_type": "execute_result",
          "data": {
            "text/plain": [
              "array([5, 0, 4, 1, 9, 2, 1, 3, 1], dtype=uint8)"
            ]
          },
          "metadata": {},
          "execution_count": 16
        }
      ],
      "source": [
        "y_train[0:9]"
      ]
    },
    {
      "cell_type": "code",
      "execution_count": null,
      "metadata": {
        "id": "M3Aj0AoxaVoS"
      },
      "outputs": [],
      "source": [
        "#Our machine does not understand numbers as distinguisngly \n",
        "#But it can understand them as a class \n",
        "from tensorflow.keras.utils import to_categorical\n",
        "y_train=to_categorical(y_train,10)\n",
        "y_test=to_categorical(y_test,10)"
      ]
    },
    {
      "cell_type": "code",
      "source": [
        "print(y_train.shape)\n",
        "print(y_test.shape)"
      ],
      "metadata": {
        "colab": {
          "base_uri": "https://localhost:8080/"
        },
        "id": "g-7eENK9Z-Hy",
        "outputId": "b62d1bed-9fd1-4f0a-fc75-2ceb82632bfb"
      },
      "execution_count": null,
      "outputs": [
        {
          "output_type": "stream",
          "name": "stdout",
          "text": [
            "(60000, 10)\n",
            "(10000, 10)\n"
          ]
        }
      ]
    },
    {
      "cell_type": "code",
      "execution_count": null,
      "metadata": {
        "colab": {
          "base_uri": "https://localhost:8080/"
        },
        "id": "MN4Y4BDXa6zs",
        "outputId": "e432d107-f13c-4146-d75f-3fe0f92168db"
      },
      "outputs": [
        {
          "output_type": "stream",
          "name": "stdout",
          "text": [
            "[0. 0. 0. 0. 0. 1. 0. 0. 0. 0.]\n",
            "[0. 0. 0. 0. 0. 0. 0. 0. 0. 1.]\n"
          ]
        }
      ],
      "source": [
        "print(y_train[0])#5\n",
        "print(y_train[4])#9"
      ]
    },
    {
      "cell_type": "code",
      "execution_count": null,
      "metadata": {
        "id": "oqIqy2FRbHax"
      },
      "outputs": [],
      "source": [
        "from keras.models import Sequential  #Models->Layers->modules \n",
        "from keras.layers import Dense       #Keras is a wrapper to tenorflow as a book\n",
        "input_size=784\n",
        "output_size=10\n",
        "ann_model=Sequential()\n",
        "ann_model.add(Dense(units=64,activation='sigmoid',input_shape=(input_size,)))\n",
        "ann_model.add(Dense(units=output_size,activation='softmax'))"
      ]
    },
    {
      "cell_type": "code",
      "execution_count": null,
      "metadata": {
        "colab": {
          "base_uri": "https://localhost:8080/"
        },
        "id": "dKKU6JbZnMJl",
        "outputId": "1954cc64-967c-45fa-97d1-2b716ba95367"
      },
      "outputs": [
        {
          "output_type": "stream",
          "name": "stdout",
          "text": [
            "Model: \"sequential\"\n",
            "_________________________________________________________________\n",
            " Layer (type)                Output Shape              Param #   \n",
            "=================================================================\n",
            " dense (Dense)               (None, 64)                50240     \n",
            "                                                                 \n",
            " dense_1 (Dense)             (None, 10)                650       \n",
            "                                                                 \n",
            "=================================================================\n",
            "Total params: 50,890\n",
            "Trainable params: 50,890\n",
            "Non-trainable params: 0\n",
            "_________________________________________________________________\n"
          ]
        }
      ],
      "source": [
        "ann_model.summary()"
      ]
    },
    {
      "cell_type": "code",
      "execution_count": null,
      "metadata": {
        "colab": {
          "base_uri": "https://localhost:8080/",
          "height": 312
        },
        "id": "sFBdW2WanOpV",
        "outputId": "6bcac27b-2908-44e2-aaf5-3a6e02770b1d"
      },
      "outputs": [
        {
          "output_type": "execute_result",
          "data": {
            "image/png": "[encoded data removed]",
            "text/plain": [
              "<IPython.core.display.Image object>"
            ]
          },
          "metadata": {},
          "execution_count": 22
        }
      ],
      "source": [
        "keras.utils.plot_model(ann_model,show_shapes=True)"
      ]
    },
    {
      "cell_type": "code",
      "execution_count": null,
      "metadata": {
        "id": "Vb9ond7CnZ4m"
      },
      "outputs": [],
      "source": [
        "ann_model.compile(loss='categorical_crossentropy',\n",
        "                  optimizer='adam',\n",
        "                  metrics=['categorical_accuracy'],\n",
        "                  steps_per_execution=10)\n",
        "#Here we are configuring/assigning parameters of the model for training"
      ]
    },
    {
      "cell_type": "code",
      "execution_count": null,
      "metadata": {
        "id": "7ZwZ6hX5pxNr",
        "colab": {
          "base_uri": "https://localhost:8080/"
        },
        "outputId": "64c78d19-4b87-415f-a3f9-3cd447592e99"
      },
      "outputs": [
        {
          "output_type": "stream",
          "name": "stderr",
          "text": [
            "WARNING:tensorflow:From <ipython-input-24-16b4d4e3b990>:2: experimental_run_functions_eagerly (from tensorflow.python.eager.def_function) is deprecated and will be removed in a future version.\n",
            "Instructions for updating:\n",
            "Use `tf.config.run_functions_eagerly` instead of the experimental version.\n"
          ]
        }
      ],
      "source": [
        "#below block code is throwing some error due to mismatch so need to run this code\n",
        "tf.config.experimental_run_functions_eagerly(True)"
      ]
    },
    {
      "cell_type": "code",
      "execution_count": null,
      "metadata": {
        "colab": {
          "base_uri": "https://localhost:8080/"
        },
        "id": "seW7pnNhos_N",
        "outputId": "421a2b1a-bcfa-439b-e238-9867b5fa88ab"
      },
      "outputs": [
        {
          "output_type": "stream",
          "name": "stderr",
          "text": [
            "/usr/local/lib/python3.7/dist-packages/tensorflow/python/data/ops/structured_function.py:265: UserWarning: Even though the `tf.config.experimental_run_functions_eagerly` option is set, this option does not apply to tf.data functions. To force eager execution of tf.data functions, please use `tf.data.experimental.enable_debug_mode()`.\n",
            "  \"Even though the `tf.config.experimental_run_functions_eagerly` \"\n"
          ]
        },
        {
          "output_type": "stream",
          "name": "stdout",
          "text": [
            "Epoch 1/20\n",
            "1000/1000 [==============================] - 16s 16ms/step - loss: 0.6946 - categorical_accuracy: 0.8168 - val_loss: 0.3701 - val_categorical_accuracy: 0.9047\n",
            "Epoch 2/20\n",
            "1000/1000 [==============================] - 16s 16ms/step - loss: 0.3965 - categorical_accuracy: 0.8877 - val_loss: 0.3155 - val_categorical_accuracy: 0.9192\n",
            "Epoch 3/20\n",
            "1000/1000 [==============================] - 16s 16ms/step - loss: 0.3654 - categorical_accuracy: 0.8955 - val_loss: 0.2917 - val_categorical_accuracy: 0.9123\n",
            "Epoch 4/20\n",
            "1000/1000 [==============================] - 17s 17ms/step - loss: 0.3474 - categorical_accuracy: 0.8971 - val_loss: 0.2748 - val_categorical_accuracy: 0.9185\n",
            "Epoch 5/20\n",
            "1000/1000 [==============================] - 16s 16ms/step - loss: 0.3334 - categorical_accuracy: 0.9014 - val_loss: 0.2849 - val_categorical_accuracy: 0.9177\n",
            "Epoch 6/20\n",
            "1000/1000 [==============================] - 16s 16ms/step - loss: 0.3207 - categorical_accuracy: 0.9051 - val_loss: 0.2442 - val_categorical_accuracy: 0.9275\n",
            "Epoch 7/20\n",
            "1000/1000 [==============================] - 16s 16ms/step - loss: 0.3033 - categorical_accuracy: 0.9098 - val_loss: 0.2431 - val_categorical_accuracy: 0.9305\n",
            "Epoch 8/20\n",
            "1000/1000 [==============================] - 16s 16ms/step - loss: 0.2871 - categorical_accuracy: 0.9143 - val_loss: 0.2598 - val_categorical_accuracy: 0.9198\n",
            "Epoch 9/20\n",
            "1000/1000 [==============================] - 15s 15ms/step - loss: 0.2973 - categorical_accuracy: 0.9101 - val_loss: 0.2437 - val_categorical_accuracy: 0.9287\n"
          ]
        }
      ],
      "source": [
        "#epoch ,batch size , and validation datasets can be any suitable number given by us\n",
        "callback=tf.keras.callbacks.EarlyStopping(monitor='loss',patience=1)\n",
        "# This callback will stop the training when there is no improvement in\n",
        "# the loss for three consecutive epochs.\n",
        "model_results=ann_model.fit(x_train,y_train,\n",
        "              epochs=20,\n",
        "              batch_size=54,\n",
        "              validation_split=0.1,callbacks=[callback],verbose=1)\n",
        "#Here the loss increased after 3 epoch so how to counter this whilee training the model \n",
        "#how to counter whether those incidents does not occur\n",
        "#Thus we use technique called early stopping\n"
      ]
    },
    {
      "cell_type": "code",
      "source": [
        "model_results"
      ],
      "metadata": {
        "id": "1sutmXTyWwYS",
        "colab": {
          "base_uri": "https://localhost:8080/"
        },
        "outputId": "2207e991-4fa5-43d3-8281-51a6ec412a45"
      },
      "execution_count": null,
      "outputs": [
        {
          "output_type": "execute_result",
          "data": {
            "text/plain": [
              "<keras.callbacks.History at 0x7f2fed58ac90>"
            ]
          },
          "metadata": {},
          "execution_count": 26
        }
      ]
    },
    {
      "cell_type": "code",
      "source": [
        "model_results.history"
      ],
      "metadata": {
        "id": "udFJbX9HXeTR",
        "colab": {
          "base_uri": "https://localhost:8080/"
        },
        "outputId": "ae096958-f413-482a-b23f-f64de1b6dfb9"
      },
      "execution_count": null,
      "outputs": [
        {
          "output_type": "execute_result",
          "data": {
            "text/plain": [
              "{'loss': [0.6946197748184204,\n",
              "  0.39654961228370667,\n",
              "  0.3653530180454254,\n",
              "  0.3473787009716034,\n",
              "  0.33343178033828735,\n",
              "  0.32072150707244873,\n",
              "  0.30333074927330017,\n",
              "  0.28709518909454346,\n",
              "  0.2973083555698395],\n",
              " 'categorical_accuracy': [0.816777765750885,\n",
              "  0.8877037167549133,\n",
              "  0.8954814672470093,\n",
              "  0.8971111178398132,\n",
              "  0.9013518691062927,\n",
              "  0.905055582523346,\n",
              "  0.9097592830657959,\n",
              "  0.9142777919769287,\n",
              "  0.910111129283905],\n",
              " 'val_loss': [0.37009188532829285,\n",
              "  0.31549814343452454,\n",
              "  0.29171478748321533,\n",
              "  0.2748297154903412,\n",
              "  0.28493598103523254,\n",
              "  0.24417570233345032,\n",
              "  0.24310393631458282,\n",
              "  0.2597547769546509,\n",
              "  0.24365997314453125],\n",
              " 'val_categorical_accuracy': [0.9046666622161865,\n",
              "  0.9191666841506958,\n",
              "  0.9123333096504211,\n",
              "  0.9185000061988831,\n",
              "  0.9176666736602783,\n",
              "  0.9275000095367432,\n",
              "  0.9304999709129333,\n",
              "  0.9198333621025085,\n",
              "  0.9286666512489319]}"
            ]
          },
          "metadata": {},
          "execution_count": 27
        }
      ]
    },
    {
      "cell_type": "code",
      "source": [
        "plt.plot(model_results.history['categorical_accuracy'],color=\"#00ff00\",label=\"Category accuracy\")\n",
        "plt.plot(model_results.history['val_categorical_accuracy'],color=\"#ff0000\",label=\"Vaidation category accuracy\")\n",
        "plt.legend() #adds axis label\n",
        "plt.show()"
      ],
      "metadata": {
        "id": "F0mveJPZbWag",
        "colab": {
          "base_uri": "https://localhost:8080/",
          "height": 265
        },
        "outputId": "daa78be2-27f4-438a-bcad-a4ca1f50925c"
      },
      "execution_count": null,
      "outputs": [
        {
          "output_type": "display_data",
          "data": {
            "text/plain": [
              "<Figure size 432x288 with 1 Axes>"
            ],
            "image/png": "[encoded data removed]"
          },
          "metadata": {
            "needs_background": "light"
          }
        }
      ]
    },
    {
      "cell_type": "code",
      "source": [
        "plt.plot(model_results.history['loss'],color=\"#00ff00\",label=\"loss\")\n",
        "plt.plot(model_results.history['val_loss'],color=\"#ff0000\",label=\"Vaidation loss\")\n",
        "plt.legend() #adds axis label\n",
        "plt.show()"
      ],
      "metadata": {
        "colab": {
          "base_uri": "https://localhost:8080/",
          "height": 265
        },
        "id": "Qlb2HuSedL0g",
        "outputId": "0b7e3f68-a427-4662-e17c-399d1dcdd2fd"
      },
      "execution_count": null,
      "outputs": [
        {
          "output_type": "display_data",
          "data": {
            "text/plain": [
              "<Figure size 432x288 with 1 Axes>"
            ],
            "image/png": "[encoded data removed]"
          },
          "metadata": {
            "needs_background": "light"
          }
        }
      ]
    },
    {
      "cell_type": "code",
      "source": [
        "x_test.shape"
      ],
      "metadata": {
        "colab": {
          "base_uri": "https://localhost:8080/"
        },
        "id": "BNU2fs1sdeey",
        "outputId": "0806b724-41ec-4933-f553-dc779aa403ff"
      },
      "execution_count": null,
      "outputs": [
        {
          "output_type": "execute_result",
          "data": {
            "text/plain": [
              "(10000, 784)"
            ]
          },
          "metadata": {},
          "execution_count": 30
        }
      ]
    },
    {
      "cell_type": "code",
      "source": [
        "print(x_test[0].shape)"
      ],
      "metadata": {
        "colab": {
          "base_uri": "https://localhost:8080/"
        },
        "id": "ti4YJ8OO-sVK",
        "outputId": "47f67b3d-d853-41b8-eb6f-656966e73220"
      },
      "execution_count": null,
      "outputs": [
        {
          "output_type": "stream",
          "name": "stdout",
          "text": [
            "(784,)\n"
          ]
        }
      ]
    },
    {
      "cell_type": "code",
      "source": [
        "ypred=ann_model.predict(x_test)"
      ],
      "metadata": {
        "colab": {
          "base_uri": "https://localhost:8080/"
        },
        "id": "_XaIBYWWdgo8",
        "outputId": "8e09a706-f6d5-47e9-b69b-7385154d5bcc"
      },
      "execution_count": null,
      "outputs": [
        {
          "output_type": "stream",
          "name": "stdout",
          "text": [
            "313/313 [==============================] - 1s 3ms/step\n"
          ]
        }
      ]
    },
    {
      "cell_type": "code",
      "source": [
        "ypred.shape"
      ],
      "metadata": {
        "colab": {
          "base_uri": "https://localhost:8080/"
        },
        "id": "B8gJHykLdo38",
        "outputId": "0a8b94eb-1241-4e45-9efb-4ffcbfbd3cc1"
      },
      "execution_count": null,
      "outputs": [
        {
          "output_type": "execute_result",
          "data": {
            "text/plain": [
              "(10000, 10)"
            ]
          },
          "metadata": {},
          "execution_count": 33
        }
      ]
    },
    {
      "cell_type": "code",
      "source": [
        "#each testing data has 10 category of which class it belongs thats why 10 columns"
      ],
      "metadata": {
        "id": "7WZsJD5IdtGZ"
      },
      "execution_count": null,
      "outputs": []
    },
    {
      "cell_type": "code",
      "source": [
        "print(\"ypred 0 \",ypred[0])\n",
        "print(\"y_test 0 \",y_test[0])"
      ],
      "metadata": {
        "colab": {
          "base_uri": "https://localhost:8080/"
        },
        "id": "O0KH7MPyd8mf",
        "outputId": "55f1ba53-c237-49a0-c009-f29dd8eeeee7"
      },
      "execution_count": null,
      "outputs": [
        {
          "output_type": "stream",
          "name": "stdout",
          "text": [
            "ypred 0  [1.4419581e-05 1.7007545e-06 8.1255901e-05 3.2731704e-04 5.4835913e-05\n",
            " 2.2544740e-05 3.7197933e-07 9.9807882e-01 2.4942285e-05 1.3937652e-03]\n",
            "y_test 0  [0. 0. 0. 0. 0. 0. 0. 1. 0. 0.]\n"
          ]
        }
      ]
    },
    {
      "cell_type": "code",
      "execution_count": null,
      "metadata": {
        "id": "_D1VhVH0pkrN"
      },
      "outputs": [],
      "source": [
        "ann_model.save('project/')"
      ]
    },
    {
      "cell_type": "code",
      "execution_count": null,
      "metadata": {
        "id": "QPOZAg3S2Mjg"
      },
      "outputs": [],
      "source": [
        "our_model=keras.models.load_model('project/')"
      ]
    },
    {
      "cell_type": "code",
      "execution_count": null,
      "metadata": {
        "id": "qd-rsd5Z2g-o",
        "colab": {
          "base_uri": "https://localhost:8080/"
        },
        "outputId": "628f04cc-e338-4ac3-d0ef-2b040a48c625"
      },
      "outputs": [
        {
          "output_type": "stream",
          "name": "stderr",
          "text": [
            "/usr/local/lib/python3.7/dist-packages/tensorflow/python/data/ops/structured_function.py:265: UserWarning: Even though the `tf.config.experimental_run_functions_eagerly` option is set, this option does not apply to tf.data functions. To force eager execution of tf.data functions, please use `tf.data.experimental.enable_debug_mode()`.\n",
            "  \"Even though the `tf.config.experimental_run_functions_eagerly` \"\n"
          ]
        },
        {
          "output_type": "stream",
          "name": "stdout",
          "text": [
            "Test loss: 0.28500035405158997\n",
            "Test accuracy: 0.919700026512146\n"
          ]
        }
      ],
      "source": [
        "score = our_model.evaluate(x_test, y_test, verbose=0)\n",
        "print(\"Test loss:\", score[0])\n",
        "print(\"Test accuracy:\", score[1])"
      ]
    },
    {
      "cell_type": "code",
      "source": [
        "#We Created a simple Neural Network Using Dense Layer,considering each pixel as features\n",
        "#so if we are going to give a real world image to predict it cannot understand\n",
        "#We need to convert image into array and pass to the current network\n",
        "img = keras.preprocessing.image.load_img('/content/drive/MyDrive/Datasets/mnistimg.png',color_mode = \"grayscale\", target_size=(28,28))\n",
        "plt.imshow(img)\n",
        "img = keras.preprocessing.image.img_to_array(img)\n",
        "img = img.reshape(1,784)\n",
        "result = our_model.predict(img)\n",
        "print(\"The Image Digit Detected is \",np.argmax(result))"
      ],
      "metadata": {
        "colab": {
          "base_uri": "https://localhost:8080/",
          "height": 354
        },
        "id": "S-PGBa2nxFix",
        "outputId": "90f68889-04c9-4e6d-8848-81620a7379f0"
      },
      "execution_count": null,
      "outputs": [
        {
          "output_type": "stream",
          "name": "stdout",
          "text": [
            "1/1 [==============================] - 0s 22ms/step\n"
          ]
        },
        {
          "output_type": "stream",
          "name": "stderr",
          "text": [
            "/usr/local/lib/python3.7/dist-packages/tensorflow/python/data/ops/structured_function.py:265: UserWarning: Even though the `tf.config.experimental_run_functions_eagerly` option is set, this option does not apply to tf.data functions. To force eager execution of tf.data functions, please use `tf.data.experimental.enable_debug_mode()`.\n",
            "  \"Even though the `tf.config.experimental_run_functions_eagerly` \"\n"
          ]
        },
        {
          "output_type": "stream",
          "name": "stdout",
          "text": [
            "The Image Digit Detected is  2\n"
          ]
        },
        {
          "output_type": "display_data",
          "data": {
            "text/plain": [
              "<Figure size 432x288 with 1 Axes>"
            ],
            "image/png": "[encoded data removed]"
          },
          "metadata": {
            "needs_background": "light"
          }
        }
      ]
    },
    {
      "cell_type": "markdown",
      "source": [
        "Hurrey Created my First Neural Model"
      ],
      "metadata": {
        "id": "nzrtB-B76Thj"
      }
    }
  ],
  "metadata": {
    "colab": {
      "provenance": [],
      "include_colab_link": true
    },
    "gpuClass": "standard",
    "kernelspec": {
      "display_name": "Python 3",
      "name": "python3"
    },
    "language_info": {
      "name": "python"
    }
  },
  "nbformat": 4,
  "nbformat_minor": 0
}